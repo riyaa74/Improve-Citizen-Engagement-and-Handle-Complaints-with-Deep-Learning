{
  "cells": [
    {
      "cell_type": "code",
      "execution_count": null,
      "metadata": {
        "colab": {
          "base_uri": "https://localhost:8080/"
        },
        "id": "L__E2XWkzET_",
        "outputId": "dd7b8434-41ad-4b6b-c3b0-4396932aad0f"
      },
      "outputs": [
        {
          "output_type": "stream",
          "name": "stdout",
          "text": [
            "Looking in indexes: https://pypi.org/simple, https://us-python.pkg.dev/colab-wheels/public/simple/\n",
            "Requirement already satisfied: eli5 in /usr/local/lib/python3.8/dist-packages (0.13.0)\n",
            "Requirement already satisfied: numpy>=1.9.0 in /usr/local/lib/python3.8/dist-packages (from eli5) (1.22.4)\n",
            "Requirement already satisfied: jinja2>=3.0.0 in /usr/local/lib/python3.8/dist-packages (from eli5) (3.1.2)\n",
            "Requirement already satisfied: scikit-learn>=0.20 in /usr/local/lib/python3.8/dist-packages (from eli5) (1.2.1)\n",
            "Requirement already satisfied: graphviz in /usr/local/lib/python3.8/dist-packages (from eli5) (0.10.1)\n",
            "Requirement already satisfied: scipy in /usr/local/lib/python3.8/dist-packages (from eli5) (1.10.1)\n",
            "Requirement already satisfied: attrs>17.1.0 in /usr/local/lib/python3.8/dist-packages (from eli5) (22.2.0)\n",
            "Requirement already satisfied: tabulate>=0.7.7 in /usr/local/lib/python3.8/dist-packages (from eli5) (0.8.10)\n",
            "Requirement already satisfied: six in /usr/local/lib/python3.8/dist-packages (from eli5) (1.15.0)\n",
            "Requirement already satisfied: MarkupSafe>=2.0 in /usr/local/lib/python3.8/dist-packages (from jinja2>=3.0.0->eli5) (2.1.2)\n",
            "Requirement already satisfied: threadpoolctl>=2.0.0 in /usr/local/lib/python3.8/dist-packages (from scikit-learn>=0.20->eli5) (3.1.0)\n",
            "Requirement already satisfied: joblib>=1.1.1 in /usr/local/lib/python3.8/dist-packages (from scikit-learn>=0.20->eli5) (1.2.0)\n"
          ]
        }
      ],
      "source": [
        "pip install eli5\n"
      ]
    },
    {
      "cell_type": "code",
      "execution_count": null,
      "metadata": {
        "colab": {
          "base_uri": "https://localhost:8080/"
        },
        "id": "4uHWgPH_u9o4",
        "outputId": "57dcb4d5-ff7d-4ef8-fa50-f817bf35a16c"
      },
      "outputs": [
        {
          "output_type": "stream",
          "name": "stderr",
          "text": [
            "[nltk_data] Downloading package wordnet to /root/nltk_data...\n",
            "[nltk_data]   Package wordnet is already up-to-date!\n",
            "[nltk_data] Downloading package stopwords to /root/nltk_data...\n",
            "[nltk_data]   Package stopwords is already up-to-date!\n"
          ]
        }
      ],
      "source": [
        "import warnings\n",
        "from sklearn.exceptions import ConvergenceWarning\n",
        "warnings.simplefilter(action='ignore', category=FutureWarning)\n",
        "warnings.filterwarnings(action='ignore', category=ConvergenceWarning)\n",
        "warnings.filterwarnings(action=\"ignore\", category=DeprecationWarning)\n",
        "\n",
        "import os\n",
        "import re\n",
        "import numpy as np\n",
        "import pandas as pd\n",
        "import pickle\n",
        "import time\n",
        "\n",
        "from IPython.display import Image\n",
        "\n",
        "import nltk\n",
        "nltk.download('wordnet')\n",
        "nltk.download('stopwords')\n",
        "from nltk.corpus import stopwords\n",
        "from nltk.tokenize import RegexpTokenizer\n",
        "from nltk.stem import WordNetLemmatizer\n",
        "\n",
        "stop_words = set(stopwords.words('english'))\n",
        "\n",
        "import gensim #unstructured digital texts using unsupervised machine learning algorithms (LDA)\n",
        "from gensim import corpora #It serves as an input for training a Model. The models use this training corpus to look for common themes and topics during training, initializing their internal model parameters\n",
        "import matplotlib.pyplot as plt\n",
        "import seaborn as sns\n",
        "\n",
        "from sklearn.preprocessing import LabelEncoder, StandardScaler\n",
        "from sklearn.feature_extraction.text import CountVectorizer\n",
        "from sklearn.linear_model import LogisticRegressionCV\n",
        "from sklearn.model_selection import KFold, StratifiedKFold, train_test_split\n",
        "from sklearn.metrics import log_loss, f1_score, roc_auc_score, accuracy_score\n",
        "# , plot_confusion_matrix\n",
        "\n",
        "import tensorflow as tf\n",
        "from tensorflow.keras.preprocessing.text import Tokenizer\n",
        "from tensorflow.keras.preprocessing.sequence import pad_sequences\n",
        "from tensorflow.keras.models import Sequential\n",
        "from tensorflow.keras.layers import Dense, Embedding, LSTM, Flatten, Bidirectional\n",
        "from tensorflow.keras.callbacks import EarlyStopping\n",
        "from tensorflow.keras.utils import to_categorical\n",
        "from tensorflow.keras.layers import Dropout, Conv1D, MaxPooling1D\n",
        "from tensorflow.keras.metrics import AUC, Precision, Recall\n",
        "from tensorflow.keras.utils import plot_model\n",
        "\n",
        "# import eli5 #Python package which helps to debug machine learning classifiers and explain their predictions\n",
        "# from eli5.lime import TextExplainer\n"
      ]
    },
    {
      "cell_type": "code",
      "execution_count": null,
      "metadata": {
        "id": "wLdkVXeizUqe",
        "colab": {
          "base_uri": "https://localhost:8080/"
        },
        "outputId": "67f32122-35c8-4943-e528-637c40eb4b8b"
      },
      "outputs": [
        {
          "output_type": "stream",
          "name": "stdout",
          "text": [
            "Drive already mounted at /content/drive; to attempt to forcibly remount, call drive.mount(\"/content/drive\", force_remount=True).\n"
          ]
        }
      ],
      "source": [
        "from google.colab import drive\n",
        "drive.mount('/content/drive')"
      ]
    },
    {
      "cell_type": "code",
      "execution_count": null,
      "metadata": {
        "id": "YBiVBEMzu9pA",
        "colab": {
          "base_uri": "https://localhost:8080/"
        },
        "outputId": "8318a45f-bc90-4f3c-d40a-d52f83b186d3"
      },
      "outputs": [
        {
          "output_type": "stream",
          "name": "stderr",
          "text": [
            "/usr/local/lib/python3.8/dist-packages/IPython/core/interactiveshell.py:3326: DtypeWarning: Columns (9,16) have mixed types.Specify dtype option on import or set low_memory=False.\n",
            "  exec(code_obj, self.user_global_ns, self.user_ns)\n"
          ]
        },
        {
          "output_type": "execute_result",
          "data": {
            "text/plain": [
              "Index(['Date received', 'Product', 'Sub-product', 'Issue', 'Sub-issue',\n",
              "       'Consumer complaint narrative', 'Company public response', 'Company',\n",
              "       'State', 'ZIP code', 'Tags', 'Consumer consent provided?',\n",
              "       'Submitted via', 'Date sent to company', 'Company response to consumer',\n",
              "       'Timely response?', 'Consumer disputed?', 'Complaint ID'],\n",
              "      dtype='object')"
            ]
          },
          "metadata": {},
          "execution_count": 4
        }
      ],
      "source": [
        "all_data = pd.read_csv(\"/content/drive/MyDrive/complaints.csv\")\n",
        "all_data.columns"
      ]
    },
    {
      "cell_type": "code",
      "execution_count": null,
      "metadata": {
        "id": "Kw1VqNEvu9pB",
        "colab": {
          "base_uri": "https://localhost:8080/"
        },
        "outputId": "de048fd1-9ced-4eee-bd7b-54eec0538b11"
      },
      "outputs": [
        {
          "output_type": "execute_result",
          "data": {
            "text/plain": [
              "(3367787, 18)"
            ]
          },
          "metadata": {},
          "execution_count": 5
        }
      ],
      "source": [
        "all_data.shape"
      ]
    },
    {
      "cell_type": "code",
      "execution_count": null,
      "metadata": {
        "id": "GcdjPcl9u9pE",
        "colab": {
          "base_uri": "https://localhost:8080/"
        },
        "outputId": "cf5fa9d8-12cd-4213-8d63-29229fd46208"
      },
      "outputs": [
        {
          "output_type": "execute_result",
          "data": {
            "text/plain": [
              "Index(['Complaint ID', 'Product', 'Consumer complaint narrative'], dtype='object')"
            ]
          },
          "metadata": {},
          "execution_count": 6
        }
      ],
      "source": [
        "important_data = all_data[[\"Complaint ID\", \"Product\", \"Consumer complaint narrative\"]]\n",
        "important_data.columns"
      ]
    },
    {
      "cell_type": "code",
      "execution_count": null,
      "metadata": {
        "id": "ncBBLRNeu9pG",
        "colab": {
          "base_uri": "https://localhost:8080/",
          "height": 363
        },
        "outputId": "d9c8b91f-068b-467d-93a7-7a448ec77b74"
      },
      "outputs": [
        {
          "output_type": "execute_result",
          "data": {
            "text/plain": [
              "   Complaint ID                                            Product  \\\n",
              "0       6603443  Credit reporting, credit repair services, or o...   \n",
              "1       6603947  Credit reporting, credit repair services, or o...   \n",
              "2       6601707  Credit reporting, credit repair services, or o...   \n",
              "3       6600956  Credit reporting, credit repair services, or o...   \n",
              "4       6605655  Credit reporting, credit repair services, or o...   \n",
              "5       6605615  Credit reporting, credit repair services, or o...   \n",
              "6       6605623  Credit reporting, credit repair services, or o...   \n",
              "7       6600901  Credit reporting, credit repair services, or o...   \n",
              "8       6601240  Credit reporting, credit repair services, or o...   \n",
              "9       6601975  Credit reporting, credit repair services, or o...   \n",
              "\n",
              "  Consumer complaint narrative  \n",
              "0                          NaN  \n",
              "1                          NaN  \n",
              "2                          NaN  \n",
              "3                          NaN  \n",
              "4                          NaN  \n",
              "5                          NaN  \n",
              "6                          NaN  \n",
              "7                          NaN  \n",
              "8                          NaN  \n",
              "9                          NaN  "
            ],
            "text/html": [
              "\n",
              "  <div id=\"df-f7a17160-bfcb-4b64-84af-20e469825f03\">\n",
              "    <div class=\"colab-df-container\">\n",
              "      <div>\n",
              "<style scoped>\n",
              "    .dataframe tbody tr th:only-of-type {\n",
              "        vertical-align: middle;\n",
              "    }\n",
              "\n",
              "    .dataframe tbody tr th {\n",
              "        vertical-align: top;\n",
              "    }\n",
              "\n",
              "    .dataframe thead th {\n",
              "        text-align: right;\n",
              "    }\n",
              "</style>\n",
              "<table border=\"1\" class=\"dataframe\">\n",
              "  <thead>\n",
              "    <tr style=\"text-align: right;\">\n",
              "      <th></th>\n",
              "      <th>Complaint ID</th>\n",
              "      <th>Product</th>\n",
              "      <th>Consumer complaint narrative</th>\n",
              "    </tr>\n",
              "  </thead>\n",
              "  <tbody>\n",
              "    <tr>\n",
              "      <th>0</th>\n",
              "      <td>6603443</td>\n",
              "      <td>Credit reporting, credit repair services, or o...</td>\n",
              "      <td>NaN</td>\n",
              "    </tr>\n",
              "    <tr>\n",
              "      <th>1</th>\n",
              "      <td>6603947</td>\n",
              "      <td>Credit reporting, credit repair services, or o...</td>\n",
              "      <td>NaN</td>\n",
              "    </tr>\n",
              "    <tr>\n",
              "      <th>2</th>\n",
              "      <td>6601707</td>\n",
              "      <td>Credit reporting, credit repair services, or o...</td>\n",
              "      <td>NaN</td>\n",
              "    </tr>\n",
              "    <tr>\n",
              "      <th>3</th>\n",
              "      <td>6600956</td>\n",
              "      <td>Credit reporting, credit repair services, or o...</td>\n",
              "      <td>NaN</td>\n",
              "    </tr>\n",
              "    <tr>\n",
              "      <th>4</th>\n",
              "      <td>6605655</td>\n",
              "      <td>Credit reporting, credit repair services, or o...</td>\n",
              "      <td>NaN</td>\n",
              "    </tr>\n",
              "    <tr>\n",
              "      <th>5</th>\n",
              "      <td>6605615</td>\n",
              "      <td>Credit reporting, credit repair services, or o...</td>\n",
              "      <td>NaN</td>\n",
              "    </tr>\n",
              "    <tr>\n",
              "      <th>6</th>\n",
              "      <td>6605623</td>\n",
              "      <td>Credit reporting, credit repair services, or o...</td>\n",
              "      <td>NaN</td>\n",
              "    </tr>\n",
              "    <tr>\n",
              "      <th>7</th>\n",
              "      <td>6600901</td>\n",
              "      <td>Credit reporting, credit repair services, or o...</td>\n",
              "      <td>NaN</td>\n",
              "    </tr>\n",
              "    <tr>\n",
              "      <th>8</th>\n",
              "      <td>6601240</td>\n",
              "      <td>Credit reporting, credit repair services, or o...</td>\n",
              "      <td>NaN</td>\n",
              "    </tr>\n",
              "    <tr>\n",
              "      <th>9</th>\n",
              "      <td>6601975</td>\n",
              "      <td>Credit reporting, credit repair services, or o...</td>\n",
              "      <td>NaN</td>\n",
              "    </tr>\n",
              "  </tbody>\n",
              "</table>\n",
              "</div>\n",
              "      <button class=\"colab-df-convert\" onclick=\"convertToInteractive('df-f7a17160-bfcb-4b64-84af-20e469825f03')\"\n",
              "              title=\"Convert this dataframe to an interactive table.\"\n",
              "              style=\"display:none;\">\n",
              "        \n",
              "  <svg xmlns=\"http://www.w3.org/2000/svg\" height=\"24px\"viewBox=\"0 0 24 24\"\n",
              "       width=\"24px\">\n",
              "    <path d=\"M0 0h24v24H0V0z\" fill=\"none\"/>\n",
              "    <path d=\"M18.56 5.44l.94 2.06.94-2.06 2.06-.94-2.06-.94-.94-2.06-.94 2.06-2.06.94zm-11 1L8.5 8.5l.94-2.06 2.06-.94-2.06-.94L8.5 2.5l-.94 2.06-2.06.94zm10 10l.94 2.06.94-2.06 2.06-.94-2.06-.94-.94-2.06-.94 2.06-2.06.94z\"/><path d=\"M17.41 7.96l-1.37-1.37c-.4-.4-.92-.59-1.43-.59-.52 0-1.04.2-1.43.59L10.3 9.45l-7.72 7.72c-.78.78-.78 2.05 0 2.83L4 21.41c.39.39.9.59 1.41.59.51 0 1.02-.2 1.41-.59l7.78-7.78 2.81-2.81c.8-.78.8-2.07 0-2.86zM5.41 20L4 18.59l7.72-7.72 1.47 1.35L5.41 20z\"/>\n",
              "  </svg>\n",
              "      </button>\n",
              "      \n",
              "  <style>\n",
              "    .colab-df-container {\n",
              "      display:flex;\n",
              "      flex-wrap:wrap;\n",
              "      gap: 12px;\n",
              "    }\n",
              "\n",
              "    .colab-df-convert {\n",
              "      background-color: #E8F0FE;\n",
              "      border: none;\n",
              "      border-radius: 50%;\n",
              "      cursor: pointer;\n",
              "      display: none;\n",
              "      fill: #1967D2;\n",
              "      height: 32px;\n",
              "      padding: 0 0 0 0;\n",
              "      width: 32px;\n",
              "    }\n",
              "\n",
              "    .colab-df-convert:hover {\n",
              "      background-color: #E2EBFA;\n",
              "      box-shadow: 0px 1px 2px rgba(60, 64, 67, 0.3), 0px 1px 3px 1px rgba(60, 64, 67, 0.15);\n",
              "      fill: #174EA6;\n",
              "    }\n",
              "\n",
              "    [theme=dark] .colab-df-convert {\n",
              "      background-color: #3B4455;\n",
              "      fill: #D2E3FC;\n",
              "    }\n",
              "\n",
              "    [theme=dark] .colab-df-convert:hover {\n",
              "      background-color: #434B5C;\n",
              "      box-shadow: 0px 1px 3px 1px rgba(0, 0, 0, 0.15);\n",
              "      filter: drop-shadow(0px 1px 2px rgba(0, 0, 0, 0.3));\n",
              "      fill: #FFFFFF;\n",
              "    }\n",
              "  </style>\n",
              "\n",
              "      <script>\n",
              "        const buttonEl =\n",
              "          document.querySelector('#df-f7a17160-bfcb-4b64-84af-20e469825f03 button.colab-df-convert');\n",
              "        buttonEl.style.display =\n",
              "          google.colab.kernel.accessAllowed ? 'block' : 'none';\n",
              "\n",
              "        async function convertToInteractive(key) {\n",
              "          const element = document.querySelector('#df-f7a17160-bfcb-4b64-84af-20e469825f03');\n",
              "          const dataTable =\n",
              "            await google.colab.kernel.invokeFunction('convertToInteractive',\n",
              "                                                     [key], {});\n",
              "          if (!dataTable) return;\n",
              "\n",
              "          const docLinkHtml = 'Like what you see? Visit the ' +\n",
              "            '<a target=\"_blank\" href=https://colab.research.google.com/notebooks/data_table.ipynb>data table notebook</a>'\n",
              "            + ' to learn more about interactive tables.';\n",
              "          element.innerHTML = '';\n",
              "          dataTable['output_type'] = 'display_data';\n",
              "          await google.colab.output.renderOutput(dataTable, element);\n",
              "          const docLink = document.createElement('div');\n",
              "          docLink.innerHTML = docLinkHtml;\n",
              "          element.appendChild(docLink);\n",
              "        }\n",
              "      </script>\n",
              "    </div>\n",
              "  </div>\n",
              "  "
            ]
          },
          "metadata": {},
          "execution_count": 7
        }
      ],
      "source": [
        "important_data.head(10)"
      ]
    },
    {
      "cell_type": "code",
      "execution_count": null,
      "metadata": {
        "id": "Ra2hNcNbu9pH",
        "colab": {
          "base_uri": "https://localhost:8080/"
        },
        "outputId": "4cecc26b-c3f3-45f0-9bdb-dbf434febf89"
      },
      "outputs": [
        {
          "output_type": "execute_result",
          "data": {
            "text/plain": [
              "Credit reporting, credit repair services, or other personal consumer reports    1639656\n",
              "Debt collection                                                                  468002\n",
              "Mortgage                                                                         371777\n",
              "Credit card or prepaid card                                                      177337\n",
              "Checking or savings account                                                      155735\n",
              "Credit reporting                                                                 140429\n",
              "Credit card                                                                       89190\n",
              "Bank account or service                                                           86206\n",
              "Student loan                                                                      73211\n",
              "Money transfer, virtual currency, or money service                                51312\n",
              "Vehicle loan or lease                                                             40734\n",
              "Consumer Loan                                                                     31596\n",
              "Payday loan, title loan, or personal loan                                         26810\n",
              "Payday loan                                                                        5543\n",
              "Money transfers                                                                    5354\n",
              "Prepaid card                                                                       3819\n",
              "Other financial service                                                            1058\n",
              "Virtual currency                                                                     18\n",
              "Name: Product, dtype: int64"
            ]
          },
          "metadata": {},
          "execution_count": 8
        }
      ],
      "source": [
        "important_data[\"Product\"].value_counts()"
      ]
    },
    {
      "cell_type": "markdown",
      "metadata": {
        "id": "-s3SCJ0I7CRL"
      },
      "source": [
        "# Pre Processing"
      ]
    },
    {
      "cell_type": "code",
      "execution_count": null,
      "metadata": {
        "colab": {
          "base_uri": "https://localhost:8080/"
        },
        "id": "tDUNlZueu9pJ",
        "outputId": "f53abd21-9545-492a-88ff-fa5972ff8401"
      },
      "outputs": [
        {
          "output_type": "execute_result",
          "data": {
            "text/plain": [
              "Index(['Complaint_ID', 'product', 'text'], dtype='object')"
            ]
          },
          "metadata": {},
          "execution_count": 9
        }
      ],
      "source": [
        "important_data_2 = important_data.rename(columns={\"Product\":\"product\", 'Consumer complaint narrative':'text',\n",
        "                                                            \"Complaint ID\":\"Complaint_ID\"})\n",
        "important_data_2.columns"
      ]
    },
    {
      "cell_type": "code",
      "execution_count": null,
      "metadata": {
        "colab": {
          "base_uri": "https://localhost:8080/",
          "height": 519
        },
        "id": "UZRH-ruGu9pK",
        "outputId": "70aafc67-6e8d-4d8f-8c33-e11b3623ae39"
      },
      "outputs": [
        {
          "output_type": "execute_result",
          "data": {
            "text/plain": [
              "      Complaint_ID                                            product  \\\n",
              "85         6192011  Credit reporting, credit repair services, or o...   \n",
              "90         6192034  Credit reporting, credit repair services, or o...   \n",
              "542        6363495  Credit reporting, credit repair services, or o...   \n",
              "622        6522205  Credit reporting, credit repair services, or o...   \n",
              "666        6522688  Credit reporting, credit repair services, or o...   \n",
              "673        6492545                                    Debt collection   \n",
              "681        6544514  Credit reporting, credit repair services, or o...   \n",
              "700        6523010  Credit reporting, credit repair services, or o...   \n",
              "758        6498901                        Checking or savings account   \n",
              "807        6492035                        Credit card or prepaid card   \n",
              "903        6509677                                       Student loan   \n",
              "987        6509409  Credit reporting, credit repair services, or o...   \n",
              "999        6536568                        Checking or savings account   \n",
              "1034       6420439  Credit reporting, credit repair services, or o...   \n",
              "1198       6511625                                           Mortgage   \n",
              "\n",
              "                                                   text  \n",
              "85    Im resubmitting a complaint to you today to in...  \n",
              "90    On XX/XX/2022. I checked my credit report and ...  \n",
              "542   I XXXX XXXX XXXX am filing this complaint on b...  \n",
              "622   In accordance with the \" Fair Credit Reporting...  \n",
              "666   A relative in XXXX used my social security num...  \n",
              "673   Cascade Capital Funding , LLC incorrectly repo...  \n",
              "681   This is my 5th endeavor to tell you that I am ...  \n",
              "700   You recently stated you did an investigation o...  \n",
              "758   As a customer of Regions Bank I have been disc...  \n",
              "807   I am submitting this complaint because I had X...  \n",
              "903   Dear SALLIE MAE ; I was shocked when I reviewe...  \n",
              "987   Experian needs to remove incorrect addresses f...  \n",
              "999   Truist will not release our funds and close ou...  \n",
              "1034  I've submitted this complaint several times & ...  \n",
              "1198  I WAS CHARGED {$1000.00} FOR A TAX AMOUNT AND ...  "
            ],
            "text/html": [
              "\n",
              "  <div id=\"df-d8109c5a-809f-4b01-8e1b-0e795936c8f4\">\n",
              "    <div class=\"colab-df-container\">\n",
              "      <div>\n",
              "<style scoped>\n",
              "    .dataframe tbody tr th:only-of-type {\n",
              "        vertical-align: middle;\n",
              "    }\n",
              "\n",
              "    .dataframe tbody tr th {\n",
              "        vertical-align: top;\n",
              "    }\n",
              "\n",
              "    .dataframe thead th {\n",
              "        text-align: right;\n",
              "    }\n",
              "</style>\n",
              "<table border=\"1\" class=\"dataframe\">\n",
              "  <thead>\n",
              "    <tr style=\"text-align: right;\">\n",
              "      <th></th>\n",
              "      <th>Complaint_ID</th>\n",
              "      <th>product</th>\n",
              "      <th>text</th>\n",
              "    </tr>\n",
              "  </thead>\n",
              "  <tbody>\n",
              "    <tr>\n",
              "      <th>85</th>\n",
              "      <td>6192011</td>\n",
              "      <td>Credit reporting, credit repair services, or o...</td>\n",
              "      <td>Im resubmitting a complaint to you today to in...</td>\n",
              "    </tr>\n",
              "    <tr>\n",
              "      <th>90</th>\n",
              "      <td>6192034</td>\n",
              "      <td>Credit reporting, credit repair services, or o...</td>\n",
              "      <td>On XX/XX/2022. I checked my credit report and ...</td>\n",
              "    </tr>\n",
              "    <tr>\n",
              "      <th>542</th>\n",
              "      <td>6363495</td>\n",
              "      <td>Credit reporting, credit repair services, or o...</td>\n",
              "      <td>I XXXX XXXX XXXX am filing this complaint on b...</td>\n",
              "    </tr>\n",
              "    <tr>\n",
              "      <th>622</th>\n",
              "      <td>6522205</td>\n",
              "      <td>Credit reporting, credit repair services, or o...</td>\n",
              "      <td>In accordance with the \" Fair Credit Reporting...</td>\n",
              "    </tr>\n",
              "    <tr>\n",
              "      <th>666</th>\n",
              "      <td>6522688</td>\n",
              "      <td>Credit reporting, credit repair services, or o...</td>\n",
              "      <td>A relative in XXXX used my social security num...</td>\n",
              "    </tr>\n",
              "    <tr>\n",
              "      <th>673</th>\n",
              "      <td>6492545</td>\n",
              "      <td>Debt collection</td>\n",
              "      <td>Cascade Capital Funding , LLC incorrectly repo...</td>\n",
              "    </tr>\n",
              "    <tr>\n",
              "      <th>681</th>\n",
              "      <td>6544514</td>\n",
              "      <td>Credit reporting, credit repair services, or o...</td>\n",
              "      <td>This is my 5th endeavor to tell you that I am ...</td>\n",
              "    </tr>\n",
              "    <tr>\n",
              "      <th>700</th>\n",
              "      <td>6523010</td>\n",
              "      <td>Credit reporting, credit repair services, or o...</td>\n",
              "      <td>You recently stated you did an investigation o...</td>\n",
              "    </tr>\n",
              "    <tr>\n",
              "      <th>758</th>\n",
              "      <td>6498901</td>\n",
              "      <td>Checking or savings account</td>\n",
              "      <td>As a customer of Regions Bank I have been disc...</td>\n",
              "    </tr>\n",
              "    <tr>\n",
              "      <th>807</th>\n",
              "      <td>6492035</td>\n",
              "      <td>Credit card or prepaid card</td>\n",
              "      <td>I am submitting this complaint because I had X...</td>\n",
              "    </tr>\n",
              "    <tr>\n",
              "      <th>903</th>\n",
              "      <td>6509677</td>\n",
              "      <td>Student loan</td>\n",
              "      <td>Dear SALLIE MAE ; I was shocked when I reviewe...</td>\n",
              "    </tr>\n",
              "    <tr>\n",
              "      <th>987</th>\n",
              "      <td>6509409</td>\n",
              "      <td>Credit reporting, credit repair services, or o...</td>\n",
              "      <td>Experian needs to remove incorrect addresses f...</td>\n",
              "    </tr>\n",
              "    <tr>\n",
              "      <th>999</th>\n",
              "      <td>6536568</td>\n",
              "      <td>Checking or savings account</td>\n",
              "      <td>Truist will not release our funds and close ou...</td>\n",
              "    </tr>\n",
              "    <tr>\n",
              "      <th>1034</th>\n",
              "      <td>6420439</td>\n",
              "      <td>Credit reporting, credit repair services, or o...</td>\n",
              "      <td>I've submitted this complaint several times &amp; ...</td>\n",
              "    </tr>\n",
              "    <tr>\n",
              "      <th>1198</th>\n",
              "      <td>6511625</td>\n",
              "      <td>Mortgage</td>\n",
              "      <td>I WAS CHARGED {$1000.00} FOR A TAX AMOUNT AND ...</td>\n",
              "    </tr>\n",
              "  </tbody>\n",
              "</table>\n",
              "</div>\n",
              "      <button class=\"colab-df-convert\" onclick=\"convertToInteractive('df-d8109c5a-809f-4b01-8e1b-0e795936c8f4')\"\n",
              "              title=\"Convert this dataframe to an interactive table.\"\n",
              "              style=\"display:none;\">\n",
              "        \n",
              "  <svg xmlns=\"http://www.w3.org/2000/svg\" height=\"24px\"viewBox=\"0 0 24 24\"\n",
              "       width=\"24px\">\n",
              "    <path d=\"M0 0h24v24H0V0z\" fill=\"none\"/>\n",
              "    <path d=\"M18.56 5.44l.94 2.06.94-2.06 2.06-.94-2.06-.94-.94-2.06-.94 2.06-2.06.94zm-11 1L8.5 8.5l.94-2.06 2.06-.94-2.06-.94L8.5 2.5l-.94 2.06-2.06.94zm10 10l.94 2.06.94-2.06 2.06-.94-2.06-.94-.94-2.06-.94 2.06-2.06.94z\"/><path d=\"M17.41 7.96l-1.37-1.37c-.4-.4-.92-.59-1.43-.59-.52 0-1.04.2-1.43.59L10.3 9.45l-7.72 7.72c-.78.78-.78 2.05 0 2.83L4 21.41c.39.39.9.59 1.41.59.51 0 1.02-.2 1.41-.59l7.78-7.78 2.81-2.81c.8-.78.8-2.07 0-2.86zM5.41 20L4 18.59l7.72-7.72 1.47 1.35L5.41 20z\"/>\n",
              "  </svg>\n",
              "      </button>\n",
              "      \n",
              "  <style>\n",
              "    .colab-df-container {\n",
              "      display:flex;\n",
              "      flex-wrap:wrap;\n",
              "      gap: 12px;\n",
              "    }\n",
              "\n",
              "    .colab-df-convert {\n",
              "      background-color: #E8F0FE;\n",
              "      border: none;\n",
              "      border-radius: 50%;\n",
              "      cursor: pointer;\n",
              "      display: none;\n",
              "      fill: #1967D2;\n",
              "      height: 32px;\n",
              "      padding: 0 0 0 0;\n",
              "      width: 32px;\n",
              "    }\n",
              "\n",
              "    .colab-df-convert:hover {\n",
              "      background-color: #E2EBFA;\n",
              "      box-shadow: 0px 1px 2px rgba(60, 64, 67, 0.3), 0px 1px 3px 1px rgba(60, 64, 67, 0.15);\n",
              "      fill: #174EA6;\n",
              "    }\n",
              "\n",
              "    [theme=dark] .colab-df-convert {\n",
              "      background-color: #3B4455;\n",
              "      fill: #D2E3FC;\n",
              "    }\n",
              "\n",
              "    [theme=dark] .colab-df-convert:hover {\n",
              "      background-color: #434B5C;\n",
              "      box-shadow: 0px 1px 3px 1px rgba(0, 0, 0, 0.15);\n",
              "      filter: drop-shadow(0px 1px 2px rgba(0, 0, 0, 0.3));\n",
              "      fill: #FFFFFF;\n",
              "    }\n",
              "  </style>\n",
              "\n",
              "      <script>\n",
              "        const buttonEl =\n",
              "          document.querySelector('#df-d8109c5a-809f-4b01-8e1b-0e795936c8f4 button.colab-df-convert');\n",
              "        buttonEl.style.display =\n",
              "          google.colab.kernel.accessAllowed ? 'block' : 'none';\n",
              "\n",
              "        async function convertToInteractive(key) {\n",
              "          const element = document.querySelector('#df-d8109c5a-809f-4b01-8e1b-0e795936c8f4');\n",
              "          const dataTable =\n",
              "            await google.colab.kernel.invokeFunction('convertToInteractive',\n",
              "                                                     [key], {});\n",
              "          if (!dataTable) return;\n",
              "\n",
              "          const docLinkHtml = 'Like what you see? Visit the ' +\n",
              "            '<a target=\"_blank\" href=https://colab.research.google.com/notebooks/data_table.ipynb>data table notebook</a>'\n",
              "            + ' to learn more about interactive tables.';\n",
              "          element.innerHTML = '';\n",
              "          dataTable['output_type'] = 'display_data';\n",
              "          await google.colab.output.renderOutput(dataTable, element);\n",
              "          const docLink = document.createElement('div');\n",
              "          docLink.innerHTML = docLinkHtml;\n",
              "          element.appendChild(docLink);\n",
              "        }\n",
              "      </script>\n",
              "    </div>\n",
              "  </div>\n",
              "  "
            ]
          },
          "metadata": {},
          "execution_count": 10
        }
      ],
      "source": [
        "important_data_3 = important_data_2.dropna(inplace=False)\n",
        "important_data_3.shape\n",
        "important_data_3.head(15)"
      ]
    },
    {
      "cell_type": "code",
      "execution_count": null,
      "metadata": {
        "id": "1YSMUEpMu9pL"
      },
      "outputs": [],
      "source": [
        "# important_data_3.loc[important_data_3['product'] == 'Credit reporting, credit repair services, or other personal consumer reports', 'product'] = 'Credit reporting'\n",
        "# important_data_3.loc[important_data_3['product'] == 'Credit card', 'product'] = 'Credit card or prepaid card'\n",
        "# important_data_3.loc[important_data_3['product'] == 'Prepaid card', 'product'] = 'Credit card or prepaid card'\n",
        "# important_data_3.loc[important_data_3['product'] == 'Payday loan', 'product'] = 'Payday loan, title loan, or personal loan'\n",
        "# important_data_3.loc[important_data_3['product'] == 'Virtual currency', 'product'] = 'Money transfer, virtual currency, or money service'\n",
        "# important_data_3.loc[important_data_3['product'] == 'Money transfers', 'product'] = 'Money transfer, virtual currency, or money service'\n",
        "# important_data_3 = important_data_3[important_data_3.product != 'Other financial service']"
      ]
    },
    {
      "cell_type": "code",
      "execution_count": null,
      "metadata": {
        "id": "r23oM-cHu9pM"
      },
      "outputs": [],
      "source": [
        "# important_data_3['product'].value_counts()"
      ]
    },
    {
      "cell_type": "code",
      "execution_count": null,
      "metadata": {
        "colab": {
          "base_uri": "https://localhost:8080/",
          "height": 598
        },
        "id": "Xq1yC8Mzu9pP",
        "outputId": "63ddad86-fbc1-43ce-a5b0-00e660435524",
        "scrolled": false
      },
      "outputs": [
        {
          "output_type": "display_data",
          "data": {
            "text/plain": [
              "<Figure size 576x432 with 1 Axes>"
            ],
            "image/png": "[encoded data removed]"
          },
          "metadata": {
            "needs_background": "light"
          }
        }
      ],
      "source": [
        "def complaint_category_counts():\n",
        "    plt.figure(figsize=(8,6))\n",
        "    plt.rcParams.update({'font.size': 8})\n",
        "    chart = sns.countplot('product', data = important_data_3)\n",
        "    chart.set_xticklabels(chart.get_xticklabels(),\n",
        "                          rotation=45, horizontalalignment='right')\n",
        "    plt.ylabel('Number of Complaints', fontsize=8)\n",
        "    plt.xlabel('Category', fontsize=8)\n",
        "    return\n",
        "\n",
        "complaint_category_counts()"
      ]
    },
    {
      "cell_type": "code",
      "execution_count": null,
      "metadata": {
        "id": "JUQPo4iPu9pS"
      },
      "outputs": [],
      "source": [
        "def removing_x_values(test_string): #Using Regex, removes 'X' and any dates\n",
        "    new_string = re.sub(r'[X]+\\/[X]+\\/\\d+|[X]+', \"\", test_string)\n",
        "    return new_string\n",
        "\n",
        "def remove_symbols(test_string):\n",
        "    new_string = re.sub(r'[!\"#$%&\\'()*+,-.\\/:;<=>?@\\[\\\\\\]^_`{\\|}~]|[\\d]+',\"\", test_string)\n",
        "    return new_string\n",
        "\n",
        "def tokenize(test_string):\n",
        "    tokenizer = RegexpTokenizer(r'\\w+|$[0-9.]+|\\S+')\n",
        "    tokenized_string = tokenizer.tokenize(test_string)\n",
        "    return tokenized_string\n",
        "\n",
        "def lowercase(tokenized_word_list):\n",
        "    lower_case = [x.lower() for x in tokenized_word_list]\n",
        "    return lower_case\n",
        "\n",
        "def lemmatize(tokenized_word_list):\n",
        "    lemmatized_words = []\n",
        "    lemmatizer = WordNetLemmatizer()\n",
        "    for x in tokenized_word_list:\n",
        "        lemmatized_words.append(lemmatizer.lemmatize(x, pos='v'))\n",
        "    return lemmatized_words\n",
        "\n",
        "def remove_stopwords(tokenized_word_list):\n",
        "    clean_list = [w for w in tokenized_word_list if not w in stop_words]\n",
        "    return clean_list"
      ]
    },
    {
      "cell_type": "code",
      "execution_count": null,
      "metadata": {
        "id": "_pfW45v7u9pU"
      },
      "outputs": [],
      "source": [
        "clean_data = important_data_3.copy(deep=True)"
      ]
    },
    {
      "cell_type": "code",
      "execution_count": null,
      "metadata": {
        "colab": {
          "base_uri": "https://localhost:8080/"
        },
        "id": "_IaH6K615M7_",
        "outputId": "3aee4449-239a-4884-8a5a-0b2ded0a6e17"
      },
      "outputs": [
        {
          "output_type": "stream",
          "name": "stderr",
          "text": [
            "[nltk_data] Downloading package omw-1.4 to /root/nltk_data...\n",
            "[nltk_data]   Package omw-1.4 is already up-to-date!\n"
          ]
        },
        {
          "output_type": "execute_result",
          "data": {
            "text/plain": [
              "True"
            ]
          },
          "metadata": {},
          "execution_count": 16
        }
      ],
      "source": [
        "import nltk\n",
        "nltk.download('omw-1.4')"
      ]
    },
    {
      "cell_type": "code",
      "execution_count": null,
      "metadata": {
        "id": "TFFdU7vYu9pU"
      },
      "outputs": [],
      "source": [
        "clean_data['text'] = important_data_3['text'].apply(removing_x_values)\n",
        "clean_data['text'] = clean_data['text'].apply(remove_symbols)\n",
        "clean_data['text'] = clean_data['text'].apply(tokenize)\n",
        "clean_data['text'] = clean_data['text'].apply(lowercase)\n",
        "clean_data['text'] = clean_data['text'].apply(lemmatize)\n",
        "clean_data['text'] = clean_data['text'].apply(remove_stopwords)"
      ]
    },
    {
      "cell_type": "code",
      "execution_count": null,
      "metadata": {
        "id": "nDZpGkmXu9pV"
      },
      "outputs": [],
      "source": [
        "clean_data.head(10)"
      ]
    },
    {
      "cell_type": "code",
      "execution_count": null,
      "metadata": {
        "id": "PHkR1OWYu9pX"
      },
      "outputs": [],
      "source": [
        "clean_data[\"text_length\"] = clean_data[\"text\"].apply(len)\n",
        "clean_data[\"text_length\"].describe()"
      ]
    },
    {
      "cell_type": "code",
      "execution_count": null,
      "metadata": {
        "id": "W3n_9uteu9pc"
      },
      "outputs": [],
      "source": [
        "clean_data = clean_data[clean_data[\"text_length\"] >= 5]\n"
      ]
    },
    {
      "cell_type": "code",
      "execution_count": null,
      "metadata": {
        "id": "8Pq2UGf7u9pd"
      },
      "outputs": [],
      "source": [
        "clean_data.head(10)"
      ]
    },
    {
      "cell_type": "code",
      "execution_count": null,
      "metadata": {
        "id": "C1g3SzO4u9pe"
      },
      "outputs": [],
      "source": [
        "clean_data_file = open('clean_complaints.pkl', 'ab')\n",
        "pickle.dump(clean_data, clean_data_file)\n",
        "clean_data_file.close()\n",
        "print(\"Done !\")"
      ]
    },
    {
      "cell_type": "markdown",
      "metadata": {
        "id": "3AH5eYiX7HXT"
      },
      "source": [
        "# Modelling Start"
      ]
    },
    {
      "cell_type": "markdown",
      "metadata": {
        "id": "x0AUPsjt7YyK"
      },
      "source": [
        "## LDA"
      ]
    },
    {
      "cell_type": "code",
      "execution_count": null,
      "metadata": {
        "id": "7WA5cHBQu9pk"
      },
      "outputs": [],
      "source": [
        "# Latent Dirichlet Allocation\n",
        "def get_LDA_model(data, num_topics, passes):\n",
        "    start_time = time.time()\n",
        "    text_data = list(data['text'])\n",
        "    dictionary = corpora.Dictionary(text_data)\n",
        "    corpus = [dictionary.doc2bow(text) for text in text_data]\n",
        "\n",
        "    LDA_model = gensim.models.ldamulticore.LdaMulticore(\n",
        "                               corpus=corpus,\n",
        "                               num_topics=num_topics,\n",
        "                               id2word=dictionary,\n",
        "                               workers=6,\n",
        "                               passes=passes)\n",
        "\n",
        "    topics = LDA_model.print_topics(num_words=10)\n",
        "    for x in topics:\n",
        "        print(x)\n",
        "        print(\"\\n\")\n",
        "    return LDA_model, topics, corpus, dictionary\n",
        "\n",
        "LDA_model, topics, corpus, dictionary = get_LDA_model(clean_data, 9, 10)"
      ]
    },
    {
      "cell_type": "code",
      "execution_count": null,
      "metadata": {
        "id": "r4TPYeVHBw2B"
      },
      "outputs": [],
      "source": [
        "# pip install gensim"
      ]
    },
    {
      "cell_type": "code",
      "execution_count": null,
      "metadata": {
        "id": "dITON44GCQVn"
      },
      "outputs": [],
      "source": [
        "# pip install pyLDAvis\n"
      ]
    },
    {
      "cell_type": "code",
      "execution_count": null,
      "metadata": {
        "id": "nfk1aWJVu9pl"
      },
      "outputs": [],
      "source": [
        "import pyLDAvis.gensim\n",
        "lda_display = pyLDAvis.gensim.prepare(LDA_model, corpus, dictionary, sort_topics=False)\n",
        "pyLDAvis.display(lda_display)"
      ]
    },
    {
      "cell_type": "code",
      "execution_count": null,
      "metadata": {
        "id": "8e9yOgLyu9pn"
      },
      "outputs": [],
      "source": [
        "# Pickle the LDA model objects\n",
        "with open('LDA_model.pkl', 'wb') as f:\n",
        "    pickle.dump(LDA_model, f)\n",
        "with open('complaint_data.pkl', 'wb') as f:\n",
        "    pickle.dump(corpus, f)\n",
        "with open('topics_data.pkl', 'wb') as f:\n",
        "    pickle.dump(topics, f)\n",
        "dictionary.save('dictionary.gensim')"
      ]
    },
    {
      "cell_type": "markdown",
      "metadata": {
        "id": "a0sDwadku9pn"
      },
      "source": [
        "## Model using LDA Topic Vectors\n"
      ]
    },
    {
      "cell_type": "code",
      "execution_count": null,
      "metadata": {
        "id": "dQqZQkfTu9po",
        "scrolled": true
      },
      "outputs": [],
      "source": [
        "# Training Vectors\n",
        "text_data = list(clean_data['text'])\n",
        "\n",
        "training_vectors = []\n",
        "for i in range(len(text_data)):\n",
        "    top_topics = LDA_model.get_document_topics(corpus[i], minimum_probability=0.0)\n",
        "    topic_vectors = [top_topics[i][1] for i in range(9)]\n",
        "    training_vectors.append(topic_vectors)"
      ]
    },
    {
      "cell_type": "markdown",
      "metadata": {
        "id": "aq3SlxuQu9pp"
      },
      "source": [
        "Multi-class Logistic Regression Classifier"
      ]
    },
    {
      "cell_type": "code",
      "execution_count": null,
      "metadata": {
        "id": "q9Jdkbrju9pq"
      },
      "outputs": [],
      "source": [
        "# Build a Logistic Regression Model using LDA Vectors\n",
        "le = LabelEncoder()\n",
        "scaler = StandardScaler()\n",
        "Y = le.fit_transform(clean_data['product'])\n",
        "X = np.array(training_vectors)\n",
        "X_scaled = scaler.fit_transform(X)\n",
        "\n",
        "X_train_lr, X_test_lr, Y_train_lr, Y_test_lr = train_test_split(X_scaled, Y, test_size = 0.20, random_state = 1234)\n",
        "\n",
        "lr_cv = LogisticRegressionCV(Cs=5,\n",
        "                          class_weight='balanced',\n",
        "                          cv=5,\n",
        "                          max_iter=300,\n",
        "                          multi_class='multinomial',\n",
        "                          random_state=1234,\n",
        "                          scoring='roc_auc_ovr_weighted',\n",
        "                          solver='saga')\n",
        "\n",
        "start_time = time.time()\n",
        "lr_cv.fit(X_train_lr, Y_train_lr)\n",
        "print(\"--- Time Taken: %s seconds ---\" % (time.time() - start_time))"
      ]
    },
    {
      "cell_type": "code",
      "execution_count": null,
      "metadata": {
        "id": "c92PYA9Wu9pr"
      },
      "outputs": [],
      "source": [
        "print('Average Cross-Validation AUC OVR Weighted: ', lr_cv.scores_[1].mean(axis=0).max())"
      ]
    },
    {
      "cell_type": "code",
      "execution_count": null,
      "metadata": {
        "id": "16ncXbxNu9pr"
      },
      "outputs": [],
      "source": [
        "with open('LR_CV_model.pkl', 'wb') as f:\n",
        "    pickle.dump(lr_cv, f)\n",
        "with open('X_LR.pkl', 'wb') as f:\n",
        "    pickle.dump(X_scaled, f)\n",
        "with open('Y_LR.pkl', 'wb') as f:\n",
        "    pickle.dump(Y, f)"
      ]
    },
    {
      "cell_type": "markdown",
      "metadata": {
        "id": "QcC4xJjpu9pu"
      },
      "source": [
        "# LSTM Model in Keras\n",
        "\n"
      ]
    },
    {
      "cell_type": "code",
      "execution_count": null,
      "metadata": {
        "id": "YRyczgdhu9pw"
      },
      "outputs": [],
      "source": [
        "def LSTMClassifier(max_words, max_sequence_length, embedding_dim, epochs, batch_size):\n",
        "    tokenizer = Tokenizer(num_words=max_words, filters='!\"#$%&()*+,-./:;<=>?@[\\\\]^_`{|}~', lower=True)\n",
        "    tokenizer.fit_on_texts(clean_data['text'].values)\n",
        "\n",
        "    word_index = tokenizer.word_index\n",
        "    print('Unique tokens: ' + str(len(word_index)))\n",
        "\n",
        "    X_dl = tokenizer.texts_to_sequences(clean_data['text'].values)\n",
        "    X_dl = pad_sequences(X_dl, maxlen=max_sequence_length)\n",
        "    print('Shape of Input Data: ', X_dl.shape)\n",
        "\n",
        "    dle = LabelEncoder()\n",
        "    Y_dl = to_categorical(dle.fit_transform(clean_data['product']))\n",
        "\n",
        "    X_train, X_test, Y_train, Y_test = train_test_split(X_dl, Y_dl, test_size = 0.20, random_state = 1234)\n",
        "\n",
        "    print('Shape of Output Data', Y_dl.shape)\n",
        "    print(X_train.shape,Y_train.shape)\n",
        "    print(X_test.shape,Y_test.shape)\n",
        "\n",
        "    metrics = [Precision(name='precision'), Recall(name='recall'), AUC(name='auc')]\n",
        "\n",
        "    model = Sequential()\n",
        "    model.add(Embedding(max_words, embedding_dim, input_length=X_dl.shape[1]))\n",
        "    model.add(LSTM(100, dropout=0.2, recurrent_dropout=0.2))\n",
        "    model.add(Dense(9, activation='softmax'))\n",
        "    model.compile(loss='categorical_crossentropy', optimizer='adam', metrics=metrics)\n",
        "    print(model.summary())\n",
        "\n",
        "    start_time = time.time()\n",
        "    LSTM_Runs = model.fit(X_train, Y_train, epochs=epochs, batch_size=batch_size, validation_split=0.2,\n",
        "                          callbacks=[EarlyStopping(monitor='val_loss', patience=3, min_delta=0.01)])\n",
        "    print(\"--- Training Time Taken: %s seconds ---\" % (time.time() - start_time))\n",
        "    return model, LSTM_Runs"
      ]
    },
    {
      "cell_type": "code",
      "execution_count": null,
      "metadata": {
        "id": "J94fj_JRu9px",
        "scrolled": false
      },
      "outputs": [],
      "source": [
        "LSTM_Model, LSTM_Runs = LSTMClassifier(max_words = 100000, max_sequence_length = 300, embedding_dim = 100, epochs = 5, batch_size = 512)"
      ]
    },
    {
      "cell_type": "code",
      "execution_count": null,
      "metadata": {
        "id": "yHjO83D3u9py"
      },
      "outputs": [],
      "source": [
        "LSTM_model_json = LSTM_Model.to_json()\n",
        "with open(\"LSTM_model.json\", \"w\") as json_file:\n",
        "    json_file.write(LSTM_model_json)\n",
        "LSTM_Model.save_weights(\"LSTM_model.h5\")\n",
        "print(\"Saved model to disk\")"
      ]
    },
    {
      "cell_type": "code",
      "execution_count": null,
      "metadata": {
        "id": "PC2e8Cruu9p0",
        "scrolled": false
      },
      "outputs": [],
      "source": [
        "plot_model(LSTM_Model, to_file='LSTM_Model_Architecture.png', show_shapes=True)"
      ]
    },
    {
      "cell_type": "code",
      "execution_count": null,
      "metadata": {
        "id": "muW46ZY9u9p2"
      },
      "outputs": [],
      "source": [
        "def LSTMClassifierCV(max_words, max_sequence_length, embedding_dim, epochs, batch_size):\n",
        "    tokenizer = Tokenizer(num_words=max_words, filters='!\"#$%&()*+,-./:;<=>?@[\\\\]^_`{|}~', lower=True)\n",
        "    tokenizer.fit_on_texts(clean_data['text'].values)\n",
        "\n",
        "    word_index = tokenizer.word_index\n",
        "    print('Unique tokens: ' + str(len(word_index)))\n",
        "    X_dl = tokenizer.texts_to_sequences(clean_data['text'].values)\n",
        "    X_dl = pad_sequences(X_dl, maxlen=max_sequence_length)\n",
        "    print('Input Data Shape:', X_dl.shape)\n",
        "\n",
        "    dle = LabelEncoder()\n",
        "    Y_dl = to_categorical(dle.fit_transform(clean_data['product']))\n",
        "\n",
        "    print('Output Data Shape:', Y_dl.shape)\n",
        "\n",
        "    X_train, X_test, Y_train, Y_test = train_test_split(X_dl, Y_dl, test_size = 0.20, random_state = 1234)\n",
        "    print(X_train.shape,Y_train.shape)\n",
        "    print(X_test.shape,Y_test.shape)\n",
        "\n",
        "    kfold = KFold(n_splits=5, shuffle=True, random_state=1234)\n",
        "    metrics = [AUC(name='auc')]\n",
        "    auc_per_fold = []\n",
        "    fold_index = 1\n",
        "    for train, test in kfold.split(X_train, Y_train):\n",
        "        print()\n",
        "        model = Sequential()\n",
        "        model.add(Embedding(max_words, embedding_dim, input_length=X_dl.shape[1]))\n",
        "        model.add(LSTM(100, dropout=0.2, recurrent_dropout=0.2))\n",
        "        model.add(Dense(9, activation='softmax'))\n",
        "        model.compile(loss='categorical_crossentropy', optimizer='adam', metrics=metrics)\n",
        "        if(fold_index == 1):\n",
        "            print(model.summary())\n",
        "        print(\"Training for Fold \" + str(fold_index))\n",
        "        model.fit(X_train[train], Y_train[train], epochs=epochs, batch_size=batch_size, validation_split=0)\n",
        "        scores = model.evaluate(X_train[test], Y_train[test], verbose=0)\n",
        "        auc_per_fold.append(scores[1])\n",
        "        fold_index += 1\n",
        "    print('Average AUC: ' + str(np.mean(auc_per_fold)))\n",
        "\n",
        "    return model, auc_per_fold"
      ]
    },
    {
      "cell_type": "code",
      "execution_count": null,
      "metadata": {
        "id": "UyeHJm5Ru9p2"
      },
      "outputs": [],
      "source": [
        "LSTM_CV_Model, LSTM_CV_Scores = LSTMClassifierCV(max_words = 100000, max_sequence_length = 300, embedding_dim = 100, epochs = 5, batch_size = 512)"
      ]
    },
    {
      "cell_type": "code",
      "execution_count": null,
      "metadata": {
        "id": "yUxdvJ5-u9p3"
      },
      "outputs": [],
      "source": [
        "LSTM_CV_model_json = LSTM_CV_Model.to_json()\n",
        "with open(\"LSTM_CV_model.json\", \"w\") as json_file:\n",
        "    json_file.write(LSTM_CV_model_json)\n",
        "LSTM_CV_Model.save_weights(\"LSTM_CV_model.h5\")\n",
        "print(\"Saved model to disk\")"
      ]
    },
    {
      "cell_type": "code",
      "execution_count": null,
      "metadata": {
        "id": "VYkMmHYTu9p4"
      },
      "outputs": [],
      "source": [
        "print(LSTM_CV_Scores)"
      ]
    },
    {
      "cell_type": "markdown",
      "metadata": {
        "id": "f8eJrL3Xu9p4"
      },
      "source": [
        "### Convolutional Neural Network Classifier\n"
      ]
    },
    {
      "cell_type": "code",
      "execution_count": null,
      "metadata": {
        "id": "uT18409su9p6"
      },
      "outputs": [],
      "source": [
        "def CNNClassifier(max_words, max_sequence_length, embedding_dim, epochs, batch_size):\n",
        "    tokenizer = Tokenizer(num_words=max_words, filters='!\"#$%&()*+,-./:;<=>?@[\\\\]^_`{|}~', lower=True)\n",
        "    tokenizer.fit_on_texts(clean_data['text'].values)\n",
        "\n",
        "    word_index = tokenizer.word_index\n",
        "    print('Unique tokens: ' + str(len(word_index)))\n",
        "\n",
        "    X_dl = tokenizer.texts_to_sequences(clean_data['text'].values)\n",
        "    X_dl = pad_sequences(X_dl, maxlen=max_sequence_length)\n",
        "    print('Input Data Shape:', X_dl.shape)\n",
        "\n",
        "    dle = LabelEncoder()\n",
        "    Y_dl = to_categorical(dle.fit_transform(clean_data['product']))\n",
        "\n",
        "    print('Output Data Shape:', Y_dl.shape)\n",
        "\n",
        "    X_train, X_test, Y_train, Y_test = train_test_split(X_dl, Y_dl, test_size = 0.20, random_state = 1234)\n",
        "    print(X_train.shape,Y_train.shape)\n",
        "    print(X_test.shape,Y_test.shape)\n",
        "\n",
        "    metrics = [Precision(name='precision'), Recall(name='recall'), AUC(name='auc')]\n",
        "\n",
        "    model = Sequential()\n",
        "    model.add(Embedding(max_words, embedding_dim, input_length=X_dl.shape[1]))\n",
        "    model.add(Conv1D(filters=32, kernel_size=8, activation='relu'))\n",
        "    model.add(MaxPooling1D(pool_size=2))\n",
        "    model.add(Flatten())\n",
        "    model.add(Dense(9, activation='softmax'))\n",
        "    model.compile(loss='categorical_crossentropy', optimizer='adam', metrics=metrics)\n",
        "    print(model.summary())\n",
        "\n",
        "    CNN_Runs = model.fit(X_train, Y_train, epochs=epochs, batch_size=batch_size, validation_split=0.2,\n",
        "                         callbacks=[EarlyStopping(monitor='val_loss', patience=3, min_delta=0.01)])\n",
        "    return model, CNN_Runs"
      ]
    },
    {
      "cell_type": "code",
      "execution_count": null,
      "metadata": {
        "id": "_kPUYlzfu9p6"
      },
      "outputs": [],
      "source": [
        "CNN_Model, CNN_Runs = CNNClassifier(max_words = 100000, max_sequence_length = 300, embedding_dim = 100, epochs = 5, batch_size = 512)"
      ]
    },
    {
      "cell_type": "code",
      "execution_count": null,
      "metadata": {
        "id": "FQpGd9MZu9p7",
        "scrolled": false
      },
      "outputs": [],
      "source": [
        "plot_model(CNN_Model, to_file='CNN_Model.png', show_shapes=True)"
      ]
    },
    {
      "cell_type": "code",
      "execution_count": null,
      "metadata": {
        "id": "wPAoYC6Du9p7"
      },
      "outputs": [],
      "source": [
        "def CNNClassifierCV(max_words, max_sequence_length, embedding_dim, epochs, batch_size):\n",
        "    tokenizer = Tokenizer(num_words=max_words, filters='!\"#$%&()*+,-./:;<=>?@[\\\\]^_`{|}~', lower=True)\n",
        "    tokenizer.fit_on_texts(clean_data['text'].values)\n",
        "\n",
        "    word_index = tokenizer.word_index\n",
        "    print('Unique tokens: ' + str(len(word_index)))\n",
        "    X_dl = tokenizer.texts_to_sequences(clean_data['text'].values)\n",
        "    X_dl = pad_sequences(X_dl, maxlen=max_sequence_length)\n",
        "    print('Input Data Shape:', X_dl.shape)\n",
        "\n",
        "    dle = LabelEncoder()\n",
        "    Y_dl = to_categorical(dle.fit_transform(clean_data['product']))\n",
        "\n",
        "    print('Output Data Shape:', Y_dl.shape)\n",
        "\n",
        "    X_train, X_test, Y_train, Y_test = train_test_split(X_dl, Y_dl, test_size = 0.20, random_state = 1234)\n",
        "    print(X_train.shape,Y_train.shape)\n",
        "    print(X_test.shape,Y_test.shape)\n",
        "\n",
        "    kfold = KFold(n_splits=5, shuffle=True, random_state=1234)\n",
        "    metrics = [AUC(name='auc')]\n",
        "    auc_per_fold = []\n",
        "    fold_index = 1\n",
        "    for train, test in kfold.split(X_train, Y_train):\n",
        "        print()\n",
        "        model = Sequential()\n",
        "        model.add(Embedding(max_words, embedding_dim, input_length=X_dl.shape[1]))\n",
        "        model.add(Conv1D(filters=32, kernel_size=8, activation='relu'))\n",
        "        model.add(MaxPooling1D(pool_size=2))\n",
        "        model.add(Flatten())\n",
        "        model.add(Dense(9, activation='softmax'))\n",
        "        model.compile(loss='categorical_crossentropy', optimizer='adam', metrics=metrics)\n",
        "        if(fold_index == 1):\n",
        "            print(model.summary())\n",
        "        print(\"Training for Fold \" + str(fold_index))\n",
        "        model.fit(X_train[train], Y_train[train], epochs=epochs, batch_size=batch_size, validation_split=0)\n",
        "        scores = model.evaluate(X_train[test], Y_train[test], verbose=0)\n",
        "        auc_per_fold.append(scores[1])\n",
        "        fold_index += 1\n",
        "    print('Average AUC: ' + str(np.mean(auc_per_fold)))\n",
        "\n",
        "    return model, auc_per_fold"
      ]
    },
    {
      "cell_type": "code",
      "execution_count": null,
      "metadata": {
        "id": "jsHOrRgvu9p8",
        "scrolled": false
      },
      "outputs": [],
      "source": [
        "CNN_CV_Model, CNN_CV_Scores = CNNClassifierCV(max_words = 100000, max_sequence_length = 300, embedding_dim = 100, epochs = 5, batch_size = 512)"
      ]
    },
    {
      "cell_type": "code",
      "execution_count": null,
      "metadata": {
        "id": "eRk7JRIou9p9",
        "scrolled": false
      },
      "outputs": [],
      "source": [
        "print(CNN_CV_Scores)"
      ]
    },
    {
      "cell_type": "code",
      "execution_count": null,
      "metadata": {
        "id": "b4A9mZh-u9p9"
      },
      "outputs": [],
      "source": [
        "CNN_CV_model_json = CNN_CV_Model.to_json()\n",
        "with open(\"CNN_CV_model.json\", \"w\") as json_file:\n",
        "    json_file.write(CNN_CV_model_json)\n",
        "CNN_CV_Model.save_weights(\"CNN_CV_model.h5\")\n",
        "print(\"Saved model to disk\")"
      ]
    },
    {
      "cell_type": "markdown",
      "metadata": {
        "id": "_ap7UpO2u9p9"
      },
      "source": [
        "### Bi-Directional LSTM Classifier\n",
        "\n"
      ]
    },
    {
      "cell_type": "code",
      "execution_count": null,
      "metadata": {
        "id": "UIg92G2ru9p-"
      },
      "outputs": [],
      "source": [
        "def BiLSTMClassifier(max_words, max_sequence_length, embedding_dim, epochs, batch_size):\n",
        "    tokenizer = Tokenizer(num_words=max_words, filters='!\"#$%&()*+,-./:;<=>?@[\\\\]^_`{|}~', lower=True)\n",
        "    tokenizer.fit_on_texts(clean_data['text'].values)\n",
        "\n",
        "    word_index = tokenizer.word_index\n",
        "    print('Unique tokens: ' + str(len(word_index)))\n",
        "\n",
        "    X_dl = tokenizer.texts_to_sequences(clean_data['text'].values)\n",
        "    X_dl = pad_sequences(X_dl, maxlen=max_sequence_length)\n",
        "    print('Input Data Shape:', X_dl.shape)\n",
        "\n",
        "    dle = LabelEncoder()\n",
        "    Y_dl = to_categorical(dle.fit_transform(clean_data['product']))\n",
        "\n",
        "    X_train, X_test, Y_train, Y_test = train_test_split(X_dl, Y_dl, test_size = 0.20, random_state = 1234)\n",
        "\n",
        "    print('Output Data Shape:', Y_dl.shape)\n",
        "    print(X_train.shape,Y_train.shape)\n",
        "    print(X_test.shape,Y_test.shape)\n",
        "\n",
        "    metrics = [Precision(name='precision'), Recall(name='recall'), AUC(name='auc')]\n",
        "\n",
        "    model = Sequential()\n",
        "    model.add(Embedding(max_words, embedding_dim, input_length=X_dl.shape[1]))\n",
        "    model.add(Bidirectional(LSTM(25, dropout=0.4, recurrent_dropout=0.4)))\n",
        "    model.add(Dense(9, activation='softmax'))\n",
        "    model.compile(loss='categorical_crossentropy', optimizer='adam', metrics=metrics)\n",
        "    print(model.summary())\n",
        "\n",
        "    BiLSTM_Runs = model.fit(X_train, Y_train, epochs=epochs, batch_size=batch_size, validation_split=0.2,\n",
        "                            callbacks=[EarlyStopping(monitor='val_loss', patience=3, min_delta=0.01)])\n",
        "    return model, BiLSTM_Runs"
      ]
    },
    {
      "cell_type": "code",
      "execution_count": null,
      "metadata": {
        "id": "T6hpazd4u9p_",
        "scrolled": false
      },
      "outputs": [],
      "source": [
        "BiLSTM_Model, BiLSTM_Runs = BiLSTMClassifier(max_words = 100000, max_sequence_length = 300, embedding_dim = 100, epochs = 5, batch_size = 512)"
      ]
    },
    {
      "cell_type": "code",
      "execution_count": null,
      "metadata": {
        "id": "rqdRGHlmu9p_",
        "scrolled": false
      },
      "outputs": [],
      "source": [
        "plot_model(BiLSTM_Model, to_file='BiLSTM_Model.png', show_shapes=True)"
      ]
    },
    {
      "cell_type": "code",
      "execution_count": null,
      "metadata": {
        "id": "yIDr0Rbeu9qA"
      },
      "outputs": [],
      "source": [
        "BiLSTM_model_json = BiLSTM_Model.to_json()\n",
        "with open(\"BiLSTM_model.json\", \"w\") as json_file:\n",
        "    json_file.write(BiLSTM_model_json)\n",
        "BiLSTM_Model.save_weights(\"BiLSTM_model.h5\")\n",
        "print(\"Saved model to disk\")"
      ]
    },
    {
      "cell_type": "code",
      "execution_count": null,
      "metadata": {
        "id": "KJAwZmYfu9qB"
      },
      "outputs": [],
      "source": [
        "def BiLSTMClassifierCV(max_words, max_sequence_length, embedding_dim, epochs, batch_size):\n",
        "    tokenizer = Tokenizer(num_words=max_words, filters='!\"#$%&()*+,-./:;<=>?@[\\\\]^_`{|}~', lower=True)\n",
        "    tokenizer.fit_on_texts(clean_data['text'].values)\n",
        "\n",
        "    word_index = tokenizer.word_index\n",
        "    print('Unique tokens: ' + str(len(word_index)))\n",
        "    X_dl = tokenizer.texts_to_sequences(clean_data['text'].values)\n",
        "    X_dl = pad_sequences(X_dl, maxlen=max_sequence_length)\n",
        "    print('Input Data Shape:', X_dl.shape)\n",
        "\n",
        "    dle = LabelEncoder()\n",
        "    Y_dl = to_categorical(dle.fit_transform(clean_data['product']))\n",
        "\n",
        "    print('Output Data Shape:', Y_dl.shape)\n",
        "\n",
        "    X_train, X_test, Y_train, Y_test = train_test_split(X_dl, Y_dl, test_size = 0.20, random_state = 1234)\n",
        "    print(X_train.shape,Y_train.shape)\n",
        "    print(X_test.shape,Y_test.shape)\n",
        "\n",
        "    kfold = KFold(n_splits=5, shuffle=True, random_state=1234)\n",
        "    metrics = [AUC(name='auc')]\n",
        "    auc_per_fold = []\n",
        "    fold_index = 1\n",
        "    for train, test in kfold.split(X_train, Y_train):\n",
        "        print()\n",
        "        model = Sequential()\n",
        "        model.add(Embedding(max_words, embedding_dim, input_length=X_dl.shape[1]))\n",
        "        model.add(Bidirectional(LSTM(25, dropout=0.4, recurrent_dropout=0.4)))\n",
        "        model.add(Dense(9, activation='softmax'))\n",
        "        model.compile(loss='categorical_crossentropy', optimizer='adam', metrics=metrics)\n",
        "        if(fold_index == 1):\n",
        "            print(model.summary())\n",
        "        print(\"Training for Fold \" + str(fold_index))\n",
        "        model.fit(X_train[train], Y_train[train], epochs=epochs, batch_size=batch_size, validation_split=0)\n",
        "        scores = model.evaluate(X_train[test], Y_train[test], verbose=0)\n",
        "        auc_per_fold.append(scores[1])\n",
        "        fold_index += 1\n",
        "    print('Average AUC: ' + str(np.mean(auc_per_fold)))\n",
        "\n",
        "    return model, auc_per_fold"
      ]
    },
    {
      "cell_type": "code",
      "execution_count": null,
      "metadata": {
        "id": "_xSwvmFQu9qB",
        "scrolled": false
      },
      "outputs": [],
      "source": [
        "BiLSTM_CV_Model, BiLSTM_CV_Scores = BiLSTMClassifierCV(max_words = 100000, max_sequence_length = 300, embedding_dim = 100, epochs = 5, batch_size = 512)"
      ]
    },
    {
      "cell_type": "code",
      "execution_count": null,
      "metadata": {
        "id": "NL9FJZIWu9qC"
      },
      "outputs": [],
      "source": [
        "BiLSTM_CV_model_json = BiLSTM_CV_Model.to_json()\n",
        "with open(\"BiLSTM_CV_model.json\", \"w\") as json_file:\n",
        "    json_file.write(BiLSTM_CV_model_json)\n",
        "BiLSTM_CV_Model.save_weights(\"BiLSTM_CV_Model.h5\")\n",
        "print(\"Saved model to disk\")"
      ]
    },
    {
      "cell_type": "code",
      "execution_count": null,
      "metadata": {
        "id": "z6ZUrw9Pu9qD",
        "scrolled": true
      },
      "outputs": [],
      "source": [
        "print(BiLSTM_CV_Scores)"
      ]
    },
    {
      "cell_type": "code",
      "execution_count": null,
      "metadata": {
        "id": "cwvD8MQvu9qF"
      },
      "outputs": [],
      "source": [
        "LSTM_CV_Model.save(\"LSTM_CV_Model_Full.h5\")\n",
        "BiLSTM_CV_Model.save(\"BiLSTM_CV_Model_Full.h5\")\n",
        "CNN_CV_Model.save(\"CNN_CV_Model_Full.h5\")\n",
        "print(\"Done !\")"
      ]
    },
    {
      "cell_type": "markdown",
      "metadata": {
        "id": "I98i69Vmu9qL"
      },
      "source": [
        "### Comparing Models\n"
      ]
    },
    {
      "cell_type": "markdown",
      "metadata": {
        "id": "HYlqcHY_u9qL"
      },
      "source": [
        "Here are the average cross-validation AUC scores for all the models that were tested above, rounded to 4 decimal places: <br><br>\n",
        "\n",
        "LDA + Logistic Regression: **0.9195**<br>\n",
        "LSTM:     **0.9808**<br>\n",
        "CNN:      **0.9745**<br>\n",
        "BiLSTM:   **0.9746**<br><br>\n",
        "\n",
        "The Convolutional Neural Network would be a good choice to proceed with, since it achieves a good AUC with minimal training time."
      ]
    }
  ],
  "metadata": {
    "colab": {
      "provenance": []
    },
    "kernelspec": {
      "display_name": "Python 3",
      "language": "python",
      "name": "python3"
    },
    "language_info": {
      "codemirror_mode": {
        "name": "ipython",
        "version": 3
      },
      "file_extension": ".py",
      "mimetype": "text/x-python",
      "name": "python",
      "nbconvert_exporter": "python",
      "pygments_lexer": "ipython3",
      "version": "3.7.7"
    }
  },
  "nbformat": 4,
  "nbformat_minor": 0
}